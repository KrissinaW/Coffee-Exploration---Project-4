{
 "cells": [
  {
   "cell_type": "code",
   "execution_count": 1,
   "id": "03474ba7-c4c5-4e1e-b83c-1f444ff9369f",
   "metadata": {},
   "outputs": [],
   "source": [
    "# Imports\n",
    "import pandas as pd\n",
    "import numpy as np\n",
    "from sklearn.model_selection import train_test_split\n",
    "from sklearn.feature_extraction.text import TfidfVectorizer\n",
    "from sklearn.pipeline import Pipeline\n",
    "from sklearn.preprocessing import StandardScaler, OneHotEncoder\n",
    "from sklearn.compose import ColumnTransformer\n",
    "from sklearn.ensemble import RandomForestRegressor\n",
    "from sklearn.multioutput import MultiOutputRegressor\n",
    "from sklearn.metrics import mean_squared_error\n"
   ]
  },
  {
   "cell_type": "code",
   "execution_count": 2,
   "id": "0c1da3da-b110-4ef1-9f40-bdf1944b267e",
   "metadata": {},
   "outputs": [
    {
     "name": "stdout",
     "output_type": "stream",
     "text": [
      "No NaN values in 'desc_1', 'origin', 'roast', or target columns.\n"
     ]
    }
   ],
   "source": [
    "# Load and Clean the Data\n",
    "# Load your dataset from the CSV file\n",
    "df = pd.read_csv('coffee_lat_lon_updated_cleaned(latest2).csv')\n",
    "\n",
    "# Fill missing values in 'desc_1' and 'roast' columns with placeholders\n",
    "df['desc_1'] = df['desc_1'].fillna('Unknown')\n",
    "df['roast'] = df['roast'].fillna('Unknown')\n",
    "\n",
    "# Drop rows with missing values in the target columns\n",
    "target_columns = ['aroma', 'acid', 'body', 'flavor', 'aftertaste']\n",
    "df = df.dropna(subset=target_columns)\n",
    "\n",
    "# Verify that no NaN values remain in 'desc_1', 'origin', 'roast', and target columns\n",
    "if df[['desc_1', 'origin', 'roast']].isna().sum().any() or df[target_columns].isna().sum().any():\n",
    "    print(\"There are still NaN values in 'desc_1', 'origin', 'roast', or target columns after handling.\")\n",
    "else:\n",
    "    print(\"No NaN values in 'desc_1', 'origin', 'roast', or target columns.\")"
   ]
  },
  {
   "cell_type": "code",
   "execution_count": 3,
   "id": "99fde2d9-6b6d-443a-ba98-5084aaad668c",
   "metadata": {},
   "outputs": [],
   "source": [
    "# Data Splitting and Preprocessing Pipeline\n",
    "# Features and target\n",
    "X = df[['cost_12oz', 'desc_1', 'origin', 'roast']]\n",
    "y = df[target_columns]\n",
    "\n",
    "# Train-test split\n",
    "X_train, X_test, y_train, y_test = train_test_split(X, y, test_size=0.2, random_state=42)\n",
    "\n",
    "# Preprocessing pipeline\n",
    "preprocessor = ColumnTransformer(\n",
    "    transformers=[\n",
    "        ('num', StandardScaler(), ['cost_12oz']),\n",
    "        ('text', TfidfVectorizer(max_features=50), 'desc_1'),\n",
    "        ('cat', OneHotEncoder(handle_unknown='ignore'), ['origin', 'roast'])\n",
    "    ]\n",
    ")"
   ]
  },
  {
   "cell_type": "code",
   "execution_count": 4,
   "id": "a4544d02-37a9-45a1-b83f-ea4d9d69c3a1",
   "metadata": {},
   "outputs": [
    {
     "data": {
      "text/html": [
       "<style>#sk-container-id-1 {color: black;background-color: white;}#sk-container-id-1 pre{padding: 0;}#sk-container-id-1 div.sk-toggleable {background-color: white;}#sk-container-id-1 label.sk-toggleable__label {cursor: pointer;display: block;width: 100%;margin-bottom: 0;padding: 0.3em;box-sizing: border-box;text-align: center;}#sk-container-id-1 label.sk-toggleable__label-arrow:before {content: \"▸\";float: left;margin-right: 0.25em;color: #696969;}#sk-container-id-1 label.sk-toggleable__label-arrow:hover:before {color: black;}#sk-container-id-1 div.sk-estimator:hover label.sk-toggleable__label-arrow:before {color: black;}#sk-container-id-1 div.sk-toggleable__content {max-height: 0;max-width: 0;overflow: hidden;text-align: left;background-color: #f0f8ff;}#sk-container-id-1 div.sk-toggleable__content pre {margin: 0.2em;color: black;border-radius: 0.25em;background-color: #f0f8ff;}#sk-container-id-1 input.sk-toggleable__control:checked~div.sk-toggleable__content {max-height: 200px;max-width: 100%;overflow: auto;}#sk-container-id-1 input.sk-toggleable__control:checked~label.sk-toggleable__label-arrow:before {content: \"▾\";}#sk-container-id-1 div.sk-estimator input.sk-toggleable__control:checked~label.sk-toggleable__label {background-color: #d4ebff;}#sk-container-id-1 div.sk-label input.sk-toggleable__control:checked~label.sk-toggleable__label {background-color: #d4ebff;}#sk-container-id-1 input.sk-hidden--visually {border: 0;clip: rect(1px 1px 1px 1px);clip: rect(1px, 1px, 1px, 1px);height: 1px;margin: -1px;overflow: hidden;padding: 0;position: absolute;width: 1px;}#sk-container-id-1 div.sk-estimator {font-family: monospace;background-color: #f0f8ff;border: 1px dotted black;border-radius: 0.25em;box-sizing: border-box;margin-bottom: 0.5em;}#sk-container-id-1 div.sk-estimator:hover {background-color: #d4ebff;}#sk-container-id-1 div.sk-parallel-item::after {content: \"\";width: 100%;border-bottom: 1px solid gray;flex-grow: 1;}#sk-container-id-1 div.sk-label:hover label.sk-toggleable__label {background-color: #d4ebff;}#sk-container-id-1 div.sk-serial::before {content: \"\";position: absolute;border-left: 1px solid gray;box-sizing: border-box;top: 0;bottom: 0;left: 50%;z-index: 0;}#sk-container-id-1 div.sk-serial {display: flex;flex-direction: column;align-items: center;background-color: white;padding-right: 0.2em;padding-left: 0.2em;position: relative;}#sk-container-id-1 div.sk-item {position: relative;z-index: 1;}#sk-container-id-1 div.sk-parallel {display: flex;align-items: stretch;justify-content: center;background-color: white;position: relative;}#sk-container-id-1 div.sk-item::before, #sk-container-id-1 div.sk-parallel-item::before {content: \"\";position: absolute;border-left: 1px solid gray;box-sizing: border-box;top: 0;bottom: 0;left: 50%;z-index: -1;}#sk-container-id-1 div.sk-parallel-item {display: flex;flex-direction: column;z-index: 1;position: relative;background-color: white;}#sk-container-id-1 div.sk-parallel-item:first-child::after {align-self: flex-end;width: 50%;}#sk-container-id-1 div.sk-parallel-item:last-child::after {align-self: flex-start;width: 50%;}#sk-container-id-1 div.sk-parallel-item:only-child::after {width: 0;}#sk-container-id-1 div.sk-dashed-wrapped {border: 1px dashed gray;margin: 0 0.4em 0.5em 0.4em;box-sizing: border-box;padding-bottom: 0.4em;background-color: white;}#sk-container-id-1 div.sk-label label {font-family: monospace;font-weight: bold;display: inline-block;line-height: 1.2em;}#sk-container-id-1 div.sk-label-container {text-align: center;}#sk-container-id-1 div.sk-container {/* jupyter's `normalize.less` sets `[hidden] { display: none; }` but bootstrap.min.css set `[hidden] { display: none !important; }` so we also need the `!important` here to be able to override the default hidden behavior on the sphinx rendered scikit-learn.org. See: https://github.com/scikit-learn/scikit-learn/issues/21755 */display: inline-block !important;position: relative;}#sk-container-id-1 div.sk-text-repr-fallback {display: none;}</style><div id=\"sk-container-id-1\" class=\"sk-top-container\"><div class=\"sk-text-repr-fallback\"><pre>Pipeline(steps=[(&#x27;preprocessor&#x27;,\n",
       "                 ColumnTransformer(transformers=[(&#x27;num&#x27;, StandardScaler(),\n",
       "                                                  [&#x27;cost_12oz&#x27;]),\n",
       "                                                 (&#x27;text&#x27;,\n",
       "                                                  TfidfVectorizer(max_features=50),\n",
       "                                                  &#x27;desc_1&#x27;),\n",
       "                                                 (&#x27;cat&#x27;,\n",
       "                                                  OneHotEncoder(handle_unknown=&#x27;ignore&#x27;),\n",
       "                                                  [&#x27;origin&#x27;, &#x27;roast&#x27;])])),\n",
       "                (&#x27;regressor&#x27;,\n",
       "                 MultiOutputRegressor(estimator=RandomForestRegressor(random_state=42)))])</pre><b>In a Jupyter environment, please rerun this cell to show the HTML representation or trust the notebook. <br />On GitHub, the HTML representation is unable to render, please try loading this page with nbviewer.org.</b></div><div class=\"sk-container\" hidden><div class=\"sk-item sk-dashed-wrapped\"><div class=\"sk-label-container\"><div class=\"sk-label sk-toggleable\"><input class=\"sk-toggleable__control sk-hidden--visually\" id=\"sk-estimator-id-1\" type=\"checkbox\" ><label for=\"sk-estimator-id-1\" class=\"sk-toggleable__label sk-toggleable__label-arrow\">Pipeline</label><div class=\"sk-toggleable__content\"><pre>Pipeline(steps=[(&#x27;preprocessor&#x27;,\n",
       "                 ColumnTransformer(transformers=[(&#x27;num&#x27;, StandardScaler(),\n",
       "                                                  [&#x27;cost_12oz&#x27;]),\n",
       "                                                 (&#x27;text&#x27;,\n",
       "                                                  TfidfVectorizer(max_features=50),\n",
       "                                                  &#x27;desc_1&#x27;),\n",
       "                                                 (&#x27;cat&#x27;,\n",
       "                                                  OneHotEncoder(handle_unknown=&#x27;ignore&#x27;),\n",
       "                                                  [&#x27;origin&#x27;, &#x27;roast&#x27;])])),\n",
       "                (&#x27;regressor&#x27;,\n",
       "                 MultiOutputRegressor(estimator=RandomForestRegressor(random_state=42)))])</pre></div></div></div><div class=\"sk-serial\"><div class=\"sk-item sk-dashed-wrapped\"><div class=\"sk-label-container\"><div class=\"sk-label sk-toggleable\"><input class=\"sk-toggleable__control sk-hidden--visually\" id=\"sk-estimator-id-2\" type=\"checkbox\" ><label for=\"sk-estimator-id-2\" class=\"sk-toggleable__label sk-toggleable__label-arrow\">preprocessor: ColumnTransformer</label><div class=\"sk-toggleable__content\"><pre>ColumnTransformer(transformers=[(&#x27;num&#x27;, StandardScaler(), [&#x27;cost_12oz&#x27;]),\n",
       "                                (&#x27;text&#x27;, TfidfVectorizer(max_features=50),\n",
       "                                 &#x27;desc_1&#x27;),\n",
       "                                (&#x27;cat&#x27;, OneHotEncoder(handle_unknown=&#x27;ignore&#x27;),\n",
       "                                 [&#x27;origin&#x27;, &#x27;roast&#x27;])])</pre></div></div></div><div class=\"sk-parallel\"><div class=\"sk-parallel-item\"><div class=\"sk-item\"><div class=\"sk-label-container\"><div class=\"sk-label sk-toggleable\"><input class=\"sk-toggleable__control sk-hidden--visually\" id=\"sk-estimator-id-3\" type=\"checkbox\" ><label for=\"sk-estimator-id-3\" class=\"sk-toggleable__label sk-toggleable__label-arrow\">num</label><div class=\"sk-toggleable__content\"><pre>[&#x27;cost_12oz&#x27;]</pre></div></div></div><div class=\"sk-serial\"><div class=\"sk-item\"><div class=\"sk-estimator sk-toggleable\"><input class=\"sk-toggleable__control sk-hidden--visually\" id=\"sk-estimator-id-4\" type=\"checkbox\" ><label for=\"sk-estimator-id-4\" class=\"sk-toggleable__label sk-toggleable__label-arrow\">StandardScaler</label><div class=\"sk-toggleable__content\"><pre>StandardScaler()</pre></div></div></div></div></div></div><div class=\"sk-parallel-item\"><div class=\"sk-item\"><div class=\"sk-label-container\"><div class=\"sk-label sk-toggleable\"><input class=\"sk-toggleable__control sk-hidden--visually\" id=\"sk-estimator-id-5\" type=\"checkbox\" ><label for=\"sk-estimator-id-5\" class=\"sk-toggleable__label sk-toggleable__label-arrow\">text</label><div class=\"sk-toggleable__content\"><pre>desc_1</pre></div></div></div><div class=\"sk-serial\"><div class=\"sk-item\"><div class=\"sk-estimator sk-toggleable\"><input class=\"sk-toggleable__control sk-hidden--visually\" id=\"sk-estimator-id-6\" type=\"checkbox\" ><label for=\"sk-estimator-id-6\" class=\"sk-toggleable__label sk-toggleable__label-arrow\">TfidfVectorizer</label><div class=\"sk-toggleable__content\"><pre>TfidfVectorizer(max_features=50)</pre></div></div></div></div></div></div><div class=\"sk-parallel-item\"><div class=\"sk-item\"><div class=\"sk-label-container\"><div class=\"sk-label sk-toggleable\"><input class=\"sk-toggleable__control sk-hidden--visually\" id=\"sk-estimator-id-7\" type=\"checkbox\" ><label for=\"sk-estimator-id-7\" class=\"sk-toggleable__label sk-toggleable__label-arrow\">cat</label><div class=\"sk-toggleable__content\"><pre>[&#x27;origin&#x27;, &#x27;roast&#x27;]</pre></div></div></div><div class=\"sk-serial\"><div class=\"sk-item\"><div class=\"sk-estimator sk-toggleable\"><input class=\"sk-toggleable__control sk-hidden--visually\" id=\"sk-estimator-id-8\" type=\"checkbox\" ><label for=\"sk-estimator-id-8\" class=\"sk-toggleable__label sk-toggleable__label-arrow\">OneHotEncoder</label><div class=\"sk-toggleable__content\"><pre>OneHotEncoder(handle_unknown=&#x27;ignore&#x27;)</pre></div></div></div></div></div></div></div></div><div class=\"sk-item sk-dashed-wrapped\"><div class=\"sk-label-container\"><div class=\"sk-label sk-toggleable\"><input class=\"sk-toggleable__control sk-hidden--visually\" id=\"sk-estimator-id-9\" type=\"checkbox\" ><label for=\"sk-estimator-id-9\" class=\"sk-toggleable__label sk-toggleable__label-arrow\">regressor: MultiOutputRegressor</label><div class=\"sk-toggleable__content\"><pre>MultiOutputRegressor(estimator=RandomForestRegressor(random_state=42))</pre></div></div></div><div class=\"sk-parallel\"><div class=\"sk-parallel-item\"><div class=\"sk-item\"><div class=\"sk-label-container\"><div class=\"sk-label sk-toggleable\"><input class=\"sk-toggleable__control sk-hidden--visually\" id=\"sk-estimator-id-10\" type=\"checkbox\" ><label for=\"sk-estimator-id-10\" class=\"sk-toggleable__label sk-toggleable__label-arrow\">estimator: RandomForestRegressor</label><div class=\"sk-toggleable__content\"><pre>RandomForestRegressor(random_state=42)</pre></div></div></div><div class=\"sk-serial\"><div class=\"sk-item\"><div class=\"sk-estimator sk-toggleable\"><input class=\"sk-toggleable__control sk-hidden--visually\" id=\"sk-estimator-id-11\" type=\"checkbox\" ><label for=\"sk-estimator-id-11\" class=\"sk-toggleable__label sk-toggleable__label-arrow\">RandomForestRegressor</label><div class=\"sk-toggleable__content\"><pre>RandomForestRegressor(random_state=42)</pre></div></div></div></div></div></div></div></div></div></div></div></div>"
      ],
      "text/plain": [
       "Pipeline(steps=[('preprocessor',\n",
       "                 ColumnTransformer(transformers=[('num', StandardScaler(),\n",
       "                                                  ['cost_12oz']),\n",
       "                                                 ('text',\n",
       "                                                  TfidfVectorizer(max_features=50),\n",
       "                                                  'desc_1'),\n",
       "                                                 ('cat',\n",
       "                                                  OneHotEncoder(handle_unknown='ignore'),\n",
       "                                                  ['origin', 'roast'])])),\n",
       "                ('regressor',\n",
       "                 MultiOutputRegressor(estimator=RandomForestRegressor(random_state=42)))])"
      ]
     },
     "execution_count": 4,
     "metadata": {},
     "output_type": "execute_result"
    }
   ],
   "source": [
    "# Model Training\n",
    "# Model pipeline\n",
    "model = Pipeline([\n",
    "    ('preprocessor', preprocessor),\n",
    "    ('regressor', MultiOutputRegressor(RandomForestRegressor(n_estimators=100, random_state=42)))\n",
    "])\n",
    "\n",
    "# Train the model\n",
    "model.fit(X_train, y_train)\n"
   ]
  },
  {
   "cell_type": "code",
   "execution_count": 5,
   "id": "cead7d89-7f69-4a3d-ad45-d009ed5b7c34",
   "metadata": {},
   "outputs": [
    {
     "name": "stdout",
     "output_type": "stream",
     "text": [
      "Root Mean Squared Error for each category:\n",
      "Aroma: 0.62\n",
      "Acid: 0.71\n",
      "Body: 0.66\n",
      "Flavor: 0.48\n",
      "Aftertaste: 0.59\n"
     ]
    }
   ],
   "source": [
    "# Model Evaluation\n",
    "# Predict on test data\n",
    "y_pred = model.predict(X_test)\n",
    "\n",
    "# Evaluate the model\n",
    "mse = mean_squared_error(y_test, y_pred, multioutput='raw_values')\n",
    "rmse = np.sqrt(mse)\n",
    "\n",
    "# Output results\n",
    "print(\"Root Mean Squared Error for each category:\")\n",
    "for col, error in zip(target_columns, rmse):\n",
    "    print(f\"{col.capitalize()}: {error:.2f}\")\n"
   ]
  },
  {
   "cell_type": "code",
   "execution_count": 6,
   "id": "77ba291d-259e-4a9b-a8ef-dc4c3ef81beb",
   "metadata": {},
   "outputs": [
    {
     "name": "stdin",
     "output_type": "stream",
     "text": [
      "Enter the cost per 12 ounces (USD):  10\n",
      "Enter the origin of the coffee:  Ethiopia\n",
      "Enter the roast level of the coffee (e.g., Light, Medium, Dark):  light\n",
      "Enter a brief description of the coffee:  fruity\n"
     ]
    },
    {
     "name": "stdout",
     "output_type": "stream",
     "text": [
      "\n",
      "Predicted Ratings for the input:\n",
      "Aroma: 17.46\n",
      "Acid: 15.82\n",
      "Body: 16.16\n",
      "Flavor: 17.66\n",
      "Aftertaste: 16.04\n",
      "\n",
      "Overall Rating predicted is: 83.14\n",
      "Website Rating predicted is: 92\n"
     ]
    }
   ],
   "source": [
    "# User Input and Prediction\n",
    "def get_user_input():\n",
    "    try:\n",
    "        cost_12oz = float(input(\"Enter the cost per 12 ounces (USD): \"))\n",
    "    except ValueError:\n",
    "        print(\"Please enter a valid number for cost per 12 ounces.\")\n",
    "        return None\n",
    "\n",
    "    origin = input(\"Enter the origin of the coffee: \").strip()\n",
    "    roast = input(\"Enter the roast level of the coffee (e.g., Light, Medium, Dark): \").strip()\n",
    "    desc_1 = input(\"Enter a brief description of the coffee: \").strip()\n",
    "\n",
    "    return pd.DataFrame({\n",
    "        'cost_12oz': [cost_12oz],\n",
    "        'origin': [origin],\n",
    "        'roast': [roast],\n",
    "        'desc_1': [desc_1]\n",
    "    })\n",
    "\n",
    "# Get user input\n",
    "user_input = get_user_input()\n",
    "\n",
    "if user_input is not None:\n",
    "    # Predict ratings based on user input\n",
    "    predicted_ratings = model.predict(user_input)\n",
    "\n",
    "    # Output predicted ratings\n",
    "    print(\"\\nPredicted Ratings for the input:\")\n",
    "    for col, rating in zip(target_columns, predicted_ratings[0]):\n",
    "        print(f\"{col.capitalize()}: {rating:.2f}\")\n",
    "    \n",
    "    # Calculate the overall rating (sum of the five predicted ratings)\n",
    "    overall_rating = np.sum(predicted_ratings[0])\n",
    "    \n",
    "    # Calculate the Website Rating\n",
    "    website_rating = round(overall_rating / 2 + 50)\n",
    "    \n",
    "    # Output the results\n",
    "    print(f\"\\nOverall Rating predicted is: {overall_rating:.2f}\")\n",
    "    print(f\"Website Rating predicted is: {website_rating}\")\n",
    "else:\n",
    "    print(\"No valid input received. Exiting...\")\n"
   ]
  },
  {
   "cell_type": "code",
   "execution_count": 7,
   "id": "44f1af6d-7afb-4568-ae06-e40abd5ba309",
   "metadata": {},
   "outputs": [
    {
     "name": "stdout",
     "output_type": "stream",
     "text": [
      "Root Mean Squared Error (RMSE) for each category:\n",
      "Aroma: 0.62\n",
      "Acid: 0.71\n",
      "Body: 0.66\n",
      "Flavor: 0.48\n",
      "Aftertaste: 0.59\n",
      "\n",
      "Overall Model Performance:\n",
      "Average RMSE across all categories: 0.61\n"
     ]
    }
   ],
   "source": [
    "# Model Evaluation and Overall Performance\n",
    "# Predict on test data\n",
    "y_pred = model.predict(X_test)\n",
    "\n",
    "# Evaluate the model\n",
    "mse = mean_squared_error(y_test, y_pred, multioutput='raw_values')\n",
    "rmse = np.sqrt(mse)\n",
    "\n",
    "# Output results\n",
    "print(\"Root Mean Squared Error (RMSE) for each category:\")\n",
    "for col, error in zip(target_columns, rmse):\n",
    "    print(f\"{col.capitalize()}: {error:.2f}\")\n",
    "\n",
    "# Calculate overall RMSE by averaging the RMSE of all categories\n",
    "overall_rmse = np.mean(rmse)\n",
    "\n",
    "# Print overall model performance\n",
    "print(\"\\nOverall Model Performance:\")\n",
    "print(f\"Average RMSE across all categories: {overall_rmse:.2f}\")"
   ]
  },
  {
   "cell_type": "code",
   "execution_count": null,
   "id": "03f16264-b500-4653-8f68-cc430f7054ce",
   "metadata": {},
   "outputs": [],
   "source": []
  }
 ],
 "metadata": {
  "kernelspec": {
   "display_name": "Python 3 (ipykernel)",
   "language": "python",
   "name": "python3"
  },
  "language_info": {
   "codemirror_mode": {
    "name": "ipython",
    "version": 3
   },
   "file_extension": ".py",
   "mimetype": "text/x-python",
   "name": "python",
   "nbconvert_exporter": "python",
   "pygments_lexer": "ipython3",
   "version": "3.11.7"
  }
 },
 "nbformat": 4,
 "nbformat_minor": 5
}
